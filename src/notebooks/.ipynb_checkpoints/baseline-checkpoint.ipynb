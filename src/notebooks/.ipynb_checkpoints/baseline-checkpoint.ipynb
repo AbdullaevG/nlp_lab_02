{
 "cells": [
  {
   "cell_type": "code",
   "execution_count": 3,
   "id": "b3b6b1af",
   "metadata": {},
   "outputs": [],
   "source": [
    "!cd ../"
   ]
  },
  {
   "cell_type": "code",
   "execution_count": 3,
   "id": "281b58d8",
   "metadata": {},
   "outputs": [],
   "source": [
    "#!pip install torchtext==0.4.0"
   ]
  },
  {
   "cell_type": "code",
   "execution_count": 1,
   "id": "6757f620",
   "metadata": {},
   "outputs": [],
   "source": [
    "# import packages\n",
    "import os\n",
    "import random\n",
    "import math\n",
    "import time\n",
    "\n",
    "import numpy\n",
    "import matplotlib\n",
    "matplotlib.rcParams.update({'figure.figsize': (16, 12), 'font.size': 14})\n",
    "import matplotlib.pyplot as plt\n",
    "%matplotlib inline\n",
    "from IPython.display import clear_output\n",
    "\n",
    "import torch\n",
    "import torch.nn as nn\n",
    "import torch.optim as optim\n",
    "\n",
    "import torchtext\n",
    "from torchtext.datasets import TranslationDataset, Multi30k\n",
    "from torchtext.data import Field, BucketIterator\n",
    "\n",
    "from nltk.tokenize import WordPunctTokenizer\n",
    "from subword_nmt.learn_bpe import learn_bpe\n",
    "from subword_nmt.apply_bpe import BPE"
   ]
  },
  {
   "cell_type": "code",
   "execution_count": 2,
   "id": "ad0e5976",
   "metadata": {},
   "outputs": [],
   "source": [
    "# load data\n",
    "path_do_data = '../../../datasets/Machine_translation_EN_RU/data.txt'\n",
    "if not os.path.exists(path_do_data):\n",
    "    print(\"Dataset not found locally. Downloading from github.\")\n",
    "    !wget https://raw.githubusercontent.com/neychev/made_nlp_course/master/datasets/Machine_translation_EN_RU/data.txt -nc\n",
    "    path_do_data = './data.txt'"
   ]
  },
  {
   "cell_type": "code",
   "execution_count": 3,
   "id": "c7aebd9e",
   "metadata": {},
   "outputs": [],
   "source": [
    "#!pip install torchtext==0.2.3"
   ]
  },
  {
   "cell_type": "code",
   "execution_count": 4,
   "id": "618ab757",
   "metadata": {},
   "outputs": [
    {
     "name": "stdout",
     "output_type": "stream",
     "text": [
      "Cordelia Hotel is situated in Tbilisi, a 3-minute walk away from Saint Trinity Church.\tОтель Cordelia расположен в Тбилиси, в 3 минутах ходьбы от Свято-Троицкого собора.\n",
      "\n"
     ]
    }
   ],
   "source": [
    "# The structure of the file: src_sentence \\t trg_sentence\n",
    "with open(path_do_data, encoding=\"utf-8\") as file:\n",
    "    for line in file:\n",
    "        line = line\n",
    "        print(line)\n",
    "        break"
   ]
  },
  {
   "cell_type": "code",
   "execution_count": 5,
   "id": "93f671cc",
   "metadata": {},
   "outputs": [
    {
     "name": "stdout",
     "output_type": "stream",
     "text": [
      "test_src: Cordelia Hotel is situated in Tbilisi, a 3-minute walk away from Saint Trinity Church.\n",
      "test_trg: Отель Cordelia расположен в Тбилиси, в 3 минутах ходьбы от Свято-Троицкого собора.\n",
      "\n"
     ]
    }
   ],
   "source": [
    "test_src, test_trg = line.split(\"\\t\")\n",
    "print(f\"test_src: {test_src}\")\n",
    "print(f\"test_trg: {test_trg}\")"
   ]
  },
  {
   "cell_type": "code",
   "execution_count": 6,
   "id": "a3917dca",
   "metadata": {},
   "outputs": [
    {
     "name": "stdout",
     "output_type": "stream",
     "text": [
      "['cordelia', 'hotel', 'is', 'situated', 'in', 'tbilisi', ',', 'a', '3', '-', 'minute', 'walk', 'away', 'from', 'saint', 'trinity', 'church', '.']\n",
      "['отель', 'cordelia', 'расположен', 'в', 'тбилиси', ',', 'в', '3', 'минутах', 'ходьбы', 'от', 'свято', '-', 'троицкого', 'собора', '.']\n"
     ]
    }
   ],
   "source": [
    "# make train, valid, test split\n",
    "tokenizer_words = WordPunctTokenizer()\n",
    "def tokenize(text):\n",
    "    return tokenizer_words.tokenize(text.lower())\n",
    "print(tokenize(test_src))\n",
    "print(tokenize(test_trg))"
   ]
  },
  {
   "cell_type": "code",
   "execution_count": 7,
   "id": "34d9dd5d",
   "metadata": {},
   "outputs": [],
   "source": [
    "SRC = Field(tokenize=tokenize,\n",
    "            init_token='<sos>',\n",
    "            eos_token='<eos>',\n",
    "            lower = True)\n",
    "\n",
    "TRG = Field(tokenize=tokenize,\n",
    "            init_token='<sos>',\n",
    "            eos_token='<eos>',\n",
    "            lower = True)"
   ]
  },
  {
   "cell_type": "code",
   "execution_count": 14,
   "id": "834cba08",
   "metadata": {},
   "outputs": [
    {
     "name": "stdout",
     "output_type": "stream",
     "text": [
      "C:\\Users\\asus\\anaconda3\\lib\\site-packages\\torchtext\\__init__.py\n"
     ]
    }
   ],
   "source": [
    "import torchtext\n",
    "print(torchtext.__file__)"
   ]
  },
  {
   "cell_type": "code",
   "execution_count": 8,
   "id": "b4dd714f",
   "metadata": {},
   "outputs": [],
   "source": [
    "dataset = torchtext.data.TabularDataset(path=path_do_data,\n",
    "                                     format=\"tsv\",\n",
    "                                     fields=[(\"trg\", TRG), (\"src\", SRC)],\n",
    "                                     )"
   ]
  },
  {
   "cell_type": "code",
   "execution_count": 9,
   "id": "7e70f736",
   "metadata": {},
   "outputs": [],
   "source": [
    "train_data, test_data, valid_data = dataset.split(split_ratio=[0.8, 0.15, 0.05])"
   ]
  },
  {
   "cell_type": "code",
   "execution_count": 10,
   "id": "9eef6a41",
   "metadata": {},
   "outputs": [
    {
     "name": "stdout",
     "output_type": "stream",
     "text": [
      "Number of training examples: 40000\n",
      "Number of validation examples: 7500\n",
      "Number of testing examples: 2500\n"
     ]
    }
   ],
   "source": [
    "print(f\"Number of training examples: {len(train_data.examples)}\")\n",
    "print(f\"Number of validation examples: {len(valid_data.examples)}\")\n",
    "print(f\"Number of testing examples: {len(test_data.examples)}\")"
   ]
  },
  {
   "cell_type": "code",
   "execution_count": 11,
   "id": "ec24015e",
   "metadata": {},
   "outputs": [
    {
     "name": "stdout",
     "output_type": "stream",
     "text": [
      "test_example src: ['расстояние', 'до', 'ближайшего', 'горнолыжного', 'подъемника', 'составляет', '1', 'км', '.']\n",
      "test_example trg: ['the', 'nearest', 'ski', 'lift', 'is', '1', 'km', 'away', '.']\n"
     ]
    }
   ],
   "source": [
    "test_example = vars(train_data.examples[0])\n",
    "print(f\"test_example src: {test_example['src']}\")\n",
    "print(f\"test_example trg: {test_example['trg']}\")"
   ]
  },
  {
   "cell_type": "code",
   "execution_count": 12,
   "id": "71a7e55d",
   "metadata": {},
   "outputs": [],
   "source": [
    "# Build the vocab for src and trg\n",
    "\n",
    "SRC.build_vocab(train_data, min_freq=3)\n",
    "TRG.build_vocab(train_data, min_freq=3)"
   ]
  },
  {
   "cell_type": "code",
   "execution_count": 13,
   "id": "a020bf00",
   "metadata": {},
   "outputs": [
    {
     "name": "stdout",
     "output_type": "stream",
     "text": [
      "The number of unique tokens in source (ru) vocabulary: 9244\n",
      "The number of unique tokens in target (en) vocabulary: 6727\n"
     ]
    }
   ],
   "source": [
    "print(f\"The number of unique tokens in source (ru) vocabulary: {len(SRC.vocab)}\")\n",
    "print(f\"The number of unique tokens in target (en) vocabulary: {len(TRG.vocab)}\")"
   ]
  },
  {
   "cell_type": "code",
   "execution_count": 14,
   "id": "c0bc43d2",
   "metadata": {},
   "outputs": [
    {
     "data": {
      "image/png": "[encoded data removed]",
      "text/plain": [
       "<Figure size 864x360 with 2 Axes>"
      ]
     },
     "metadata": {
      "needs_background": "light"
     },
     "output_type": "display_data"
    }
   ],
   "source": [
    "# length distribution\n",
    "src_length = list(map(len, [vars(x)['src'] for x in train_data]))\n",
    "trg_length = list(map(len, [vars(x)['trg'] for x in train_data]))\n",
    "\n",
    "plt.figure(figsize=(12, 5))\n",
    "plt.subplot(1, 2, 1)\n",
    "plt.grid()\n",
    "plt.title(\"Source length distribution\", size=15)\n",
    "plt.hist(src_length);\n",
    "\n",
    "plt.subplot(1, 2, 2)\n",
    "plt.grid()\n",
    "plt.title(\"Target length distribution\", size=15)\n",
    "plt.hist(trg_length);"
   ]
  },
  {
   "cell_type": "code",
   "execution_count": 15,
   "id": "4d8bce04",
   "metadata": {},
   "outputs": [],
   "source": [
    "device = torch.device('cuda' if torch.cuda.is_available() else 'cpu')\n",
    "\n",
    "def _len_sort_key(x):\n",
    "    return len(x.src)\n",
    "\n",
    "batch_size=128\n",
    "\n",
    "train_iterator, valid_iterator, test_iterator = BucketIterator.splits((train_data, valid_data, test_data),\n",
    "                                                                batch_size = batch_size,\n",
    "                                                                sort_key=_len_sort_key,\n",
    "                                                                device=device)"
   ]
  },
  {
   "cell_type": "code",
   "execution_count": 16,
   "id": "d9a77670",
   "metadata": {},
   "outputs": [
    {
     "name": "stdout",
     "output_type": "stream",
     "text": [
      "torch.Size([55, 128])\n",
      "torch.Size([52, 128])\n"
     ]
    }
   ],
   "source": [
    "for batch in train_iterator:\n",
    "    (x, y), _ = batch\n",
    "    break\n",
    "print(x.shape)\n",
    "print(y.shape)"
   ]
  },
  {
   "cell_type": "code",
   "execution_count": 18,
   "id": "51ec2465",
   "metadata": {},
   "outputs": [],
   "source": [
    "src_tokens_num = len(SRC.vocab)\n",
    "trg_tokens_num = len(TRG.vocab)"
   ]
  },
  {
   "cell_type": "code",
   "execution_count": 19,
   "id": "ade12f0a",
   "metadata": {},
   "outputs": [
    {
     "data": {
      "text/plain": [
       "torch.Size([55, 128, 16])"
      ]
     },
     "execution_count": 19,
     "metadata": {},
     "output_type": "execute_result"
    }
   ],
   "source": [
    "nn.Embedding(src_tokens_num, 16)(x).shape"
   ]
  },
  {
   "cell_type": "code",
   "execution_count": 49,
   "id": "662ac93c",
   "metadata": {},
   "outputs": [
    {
     "name": "stdout",
     "output_type": "stream",
     "text": [
      "torch.Size([2, 128, 64]) torch.Size([2, 128, 64])\n"
     ]
    },
    {
     "data": {
      "text/plain": [
       "(torch.Size([128, 6727]), torch.Size([2, 128, 64]), torch.Size([2, 128, 64]))"
      ]
     },
     "execution_count": 49,
     "metadata": {},
     "output_type": "execute_result"
    }
   ],
   "source": [
    "### test baseline model\n",
    "\n",
    "class Encoder(nn.Module):\n",
    "    def __init__(self, input_dim, emb_dim, hid_dim, n_layers, dropout):\n",
    "        super().__init__()\n",
    "        \n",
    "        self.input_dim = input_dim\n",
    "        self.emb_dim = emb_dim\n",
    "        self.hid_dim = hid_dim\n",
    "        self.n_layers = n_layers\n",
    "        self.p = dropout\n",
    "        self.embedding = nn.Embedding(\n",
    "            num_embeddings=input_dim,\n",
    "            embedding_dim=emb_dim\n",
    "        )\n",
    "        \n",
    "        self.rnn = nn.LSTM(\n",
    "            input_size=emb_dim,\n",
    "            hidden_size=hid_dim,\n",
    "            num_layers=n_layers,\n",
    "            dropout=dropout\n",
    "        )\n",
    "        \n",
    "        self.dropout = nn.Dropout(p=self.p)\n",
    "        \n",
    "    def forward(self, src):      \n",
    "        #src = [src_len, batch_size]\n",
    "    \n",
    "        embedded = self.embedding(src) \n",
    "        embedded = self.dropout(embedded)\n",
    "        #embedded = [src_len, batch_size, emb_dim]\n",
    "        \n",
    "        output, (hidden, cell) = self.rnn(embedded)\n",
    "        #outputs = [src_len, batch size, hid_dim * n_directions]\n",
    "        #hidden = [n_layers * n_directions, batch_size, hid_dim]\n",
    "        #cell = [n_layers * n_directions, batch_size, hid_dim]\n",
    "        \n",
    "        return hidden, cell\n",
    "\n",
    "\n",
    "\n",
    "class Decoder(nn.Module):\n",
    "    def __init__(self, output_dim, emb_dim, hid_dim, n_layers, dropout):\n",
    "        super().__init__()\n",
    "        self.output_dim = output_dim\n",
    "        self.emb_dim = emb_dim\n",
    "        self.hid_dim = hid_dim\n",
    "        self.n_layers = n_layers\n",
    "        self.embedding = nn.Embedding(\n",
    "            num_embeddings=self.output_dim,\n",
    "            embedding_dim=emb_dim\n",
    "        )\n",
    "        \n",
    "        self.rnn = nn.LSTM(\n",
    "            input_size=self.emb_dim,\n",
    "            hidden_size=self.hid_dim ,\n",
    "            num_layers=self.n_layers,\n",
    "            dropout=dropout\n",
    "        )\n",
    "         \n",
    "        self.fc = nn.Linear(self.hid_dim, self.output_dim)\n",
    "        \n",
    "    def forward(self, input_, hidden, cell):\n",
    "        # input_=[batch_size], hidden, cell=[num_layers*num_directions, batch_size, hid_size]\n",
    "        input_ = input_.unsqueeze(0) # input_=[1, batch_size]\n",
    "        embedding = self.embedding(input_)\n",
    "        # embedding = [1, batch_size, emb_dim]\n",
    "        output, (hidden, cell) = self.rnn(embedding)\n",
    "        # output = [1, batch_size, hid_size], hidden,= [num_layers*num_directions, batch_size, hid_size]\n",
    "        logits = self.fc(output.squeeze(0))\n",
    "        # logits = [batch_size, trg_vocab_len]\n",
    "        return logits, hidden, cell\n",
    "    \n",
    "enc = Encoder(src_tokens_num, 128, 64, 2, 0.15)\n",
    "enc_out = enc(x)\n",
    "print(enc_out[0].shape, enc_out[1].shape)\n",
    "dec = Decoder(trg_tokens_num, 128, 64, 2, 0.15)\n",
    "dec_out = dec(y[0], enc_out[0], enc_out[1])\n",
    "dec_out[0].shape, dec_out[1].shape, dec_out[2].shape"
   ]
  },
  {
   "cell_type": "code",
   "execution_count": 57,
   "id": "69f0aedf",
   "metadata": {},
   "outputs": [
    {
     "data": {
      "text/plain": [
       "6727"
      ]
     },
     "execution_count": 57,
     "metadata": {},
     "output_type": "execute_result"
    }
   ],
   "source": [
    "len(TRG.vocab)"
   ]
  },
  {
   "cell_type": "code",
   "execution_count": 55,
   "id": "e4e6c3a9",
   "metadata": {},
   "outputs": [
    {
     "data": {
      "text/plain": [
       "(6727, 9244)"
      ]
     },
     "execution_count": 55,
     "metadata": {},
     "output_type": "execute_result"
    }
   ],
   "source": [
    "trg_tokens_num, src_tokens_num"
   ]
  },
  {
   "cell_type": "code",
   "execution_count": 63,
   "id": "222f1e10",
   "metadata": {},
   "outputs": [
    {
     "data": {
      "text/plain": [
       "torch.Size([55, 128, 6727])"
      ]
     },
     "execution_count": 63,
     "metadata": {},
     "output_type": "execute_result"
    }
   ],
   "source": [
    "import random\n",
    "class Seq2Seq(nn.Module):\n",
    "    def __init__(self, encoder, decoder, teacher_forcing_ratio):\n",
    "        super().__init__()\n",
    "        \n",
    "        self.enc = encoder\n",
    "        self.dec = decoder\n",
    "        self.teach_force_rat = teacher_forcing_ratio\n",
    "        \n",
    "    def forward(self, src, trg):\n",
    "        batch_size = trg.shape[1]\n",
    "        max_len = trg.shape[0]\n",
    "        trg_vocab_size = self.dec.output_dim\n",
    "        outputs = torch.zeros(max_len, batch_size, trg_vocab_size)\n",
    "        h_pred, c_pred = enc(src)\n",
    "        \n",
    "        input_ = trg[0, :] # first token is <sos>\n",
    "        for t in range(1, max_len):\n",
    "            #print(max(input_))\n",
    "            dec_output_t, h_pred, c_pred = self.dec(input_, h_pred, c_pred)\n",
    "            outputs[t] = dec_output_t\n",
    "            teacher_force = random.random() < self.teach_force_rat\n",
    "            top1 = dec_output_t.max(1)[1]\n",
    "            input_ = (trg[t] if teacher_force else top1)\n",
    "            \n",
    "        return outputs\n",
    "    \n",
    "test_s = Seq2Seq(enc, dec, 0.5)\n",
    "test_s(y, x).shape"
   ]
  },
  {
   "cell_type": "code",
   "execution_count": null,
   "id": "45f523aa",
   "metadata": {},
   "outputs": [],
   "source": []
  }
 ],
 "metadata": {
  "kernelspec": {
   "display_name": "Python 3",
   "language": "python",
   "name": "python3"
  },
  "language_info": {
   "codemirror_mode": {
    "name": "ipython",
    "version": 3
   },
   "file_extension": ".py",
   "mimetype": "text/x-python",
   "name": "python",
   "nbconvert_exporter": "python",
   "pygments_lexer": "ipython3",
   "version": "3.8.5"
  }
 },
 "nbformat": 4,
 "nbformat_minor": 5
}
