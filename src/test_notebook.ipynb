{
 "cells": [
  {
   "cell_type": "code",
   "execution_count": 2,
   "id": "2eac7370",
   "metadata": {},
   "outputs": [
    {
     "data": {
      "text/plain": [
       "'0.4.0'"
      ]
     },
     "execution_count": 2,
     "metadata": {},
     "output_type": "execute_result"
    }
   ],
   "source": [
    "import torchtext\n",
    "torchtext.__version__"
   ]
  },
  {
   "cell_type": "code",
   "execution_count": 1,
   "id": "c8e01b99",
   "metadata": {},
   "outputs": [],
   "source": [
    "from data.make_dataset import iterators_and_fields\n",
    "from entity.train_pipeline_params import read_training_pipeline_params"
   ]
  },
  {
   "cell_type": "code",
   "execution_count": 2,
   "id": "ede74422",
   "metadata": {},
   "outputs": [],
   "source": [
    "data_params = read_training_pipeline_params(\"../configs/train_config.yml\").dataparams"
   ]
  },
  {
   "cell_type": "code",
   "execution_count": 3,
   "id": "26d5436d",
   "metadata": {},
   "outputs": [
    {
     "data": {
      "text/plain": [
       "DataParams(path_to_data='../data/raw/data_little.txt', file_format='tsv', split_ratio=[0.8, 0.15, 0.05], min_word_freq=3, batch_size=128)"
      ]
     },
     "execution_count": 3,
     "metadata": {},
     "output_type": "execute_result"
    }
   ],
   "source": [
    "data_params"
   ]
  },
  {
   "cell_type": "code",
   "execution_count": 4,
   "id": "b3fb9254",
   "metadata": {},
   "outputs": [
    {
     "data": {
      "text/plain": [
       "{'path_to_data': '../data/raw/data_little.txt',\n",
       " 'file_format': 'tsv',\n",
       " 'split_ratio': [0.8, 0.15, 0.05],\n",
       " 'min_word_freq': 3,\n",
       " 'batch_size': 128}"
      ]
     },
     "execution_count": 4,
     "metadata": {},
     "output_type": "execute_result"
    }
   ],
   "source": [
    "vars(data_params)"
   ]
  },
  {
   "cell_type": "code",
   "execution_count": 5,
   "id": "cb632a71",
   "metadata": {},
   "outputs": [
    {
     "data": {
      "text/plain": [
       "'../data/raw/data_little.txt'"
      ]
     },
     "execution_count": 5,
     "metadata": {},
     "output_type": "execute_result"
    }
   ],
   "source": [
    "data_params.path_to_data"
   ]
  },
  {
   "cell_type": "code",
   "execution_count": 6,
   "id": "5d7794ad",
   "metadata": {},
   "outputs": [],
   "source": [
    "import sys\n",
    "import logging\n",
    "\n",
    "import pynndescent.distances\n",
    "\n",
    "from data.make_dataset import iterators_and_fields\n",
    "from entity.train_pipeline_params import read_training_pipeline_params\n",
    "from models.base_seq2seq import base_seq2seq\n",
    "import click\n",
    "from train_model import train_model\n",
    "import torch\n",
    "import torch.nn as nn"
   ]
  },
  {
   "cell_type": "code",
   "execution_count": 7,
   "id": "25f4410d",
   "metadata": {},
   "outputs": [],
   "source": [
    "logger = logging.getLogger(__name__)\n",
    "handler = logging.StreamHandler(sys.stdout)\n",
    "logger.setLevel(logging.INFO)\n",
    "logger.addHandler(handler)"
   ]
  },
  {
   "cell_type": "code",
   "execution_count": 8,
   "id": "67561389",
   "metadata": {},
   "outputs": [
    {
     "data": {
      "text/plain": [
       "TrainingPipelineParams(dataparams=DataParams(path_to_data='../data/raw/data_little.txt', file_format='tsv', split_ratio=[0.8, 0.15, 0.05], min_word_freq=3, batch_size=128), seq2seqparams=Seq2SeqParams(enc_emb_dim=128, dec_emb_dim=128, enc_hid_dim=256, dec_hid_dim=256, enc_dropout=0.15, dec_dropout=0.15, teacher_forcing_ratio=0.35, n_layers=2, save_path='./src/models/baseline.pt'), trainparams=TrainParams(clip=1, num_epochs=10))"
      ]
     },
     "execution_count": 8,
     "metadata": {},
     "output_type": "execute_result"
    }
   ],
   "source": [
    "config_path = \"../configs/train_config.yml\"\n",
    "all_params = read_training_pipeline_params(config_path)\n",
    "all_params"
   ]
  },
  {
   "cell_type": "code",
   "execution_count": 10,
   "id": "7154491a",
   "metadata": {},
   "outputs": [
    {
     "name": "stdout",
     "output_type": "stream",
     "text": [
      "Loading dataset from ../data/raw/data_little.txt...\n",
      "Loading from ../data/raw/data_little.txt finished\n",
      "Split the data to train, valid and test...\n",
      "Number of train, valid and test examples: (563, 106, 35)\n",
      "Build the vocabularis...\n",
      "Vocabs is built!\n",
      "The number of unique tokens in source (ru) vocabulary: 480\n",
      "The number of unique tokens in target (en) vocabulary: 442\n",
      "Try to build iterators...\n",
      "Iterators prepared!!!\n",
      "Try build the baseline model...\n",
      "baseline loaded!!!\n"
     ]
    }
   ],
   "source": [
    "data_params_dict = vars(all_params.dataparams)\n",
    "data, fields = iterators_and_fields(**data_params_dict)\n",
    "train_iterator, valid_iterator, test_iterator = data\n",
    "SRC, TRG = fields\n",
    "base_model_params = vars(all_params.seq2seqparams)\n",
    "logger.info(\"Try build the baseline model...\")\n",
    "base_model, path = base_seq2seq(489, 445, **base_model_params)\n",
    "logger.info(\"baseline loaded!!!\")\n",
    "criterion = nn.BCELoss()\n",
    "optimizer = torch.optim.Adam(base_model.parameters())\n",
    "train_params = all_params.trainparams"
   ]
  },
  {
   "cell_type": "code",
   "execution_count": 11,
   "id": "55859915",
   "metadata": {},
   "outputs": [
    {
     "data": {
      "text/plain": [
       "<All keys matched successfully>"
      ]
     },
     "execution_count": 11,
     "metadata": {},
     "output_type": "execute_result"
    }
   ],
   "source": [
    "base_model.load_state_dict(torch.load(\"models/baseline.pt\"))"
   ]
  },
  {
   "cell_type": "code",
   "execution_count": 23,
   "id": "7583add2",
   "metadata": {},
   "outputs": [
    {
     "name": "stderr",
     "output_type": "stream",
     "text": [
      "0it [00:00, ?it/s]\n"
     ]
    }
   ],
   "source": [
    "import tqdm\n",
    "for i, batch in tqdm.tqdm(enumerate(train_iterator)):\n",
    "    src = batch.src\n",
    "    trg = batch.trg\n",
    "    break"
   ]
  },
  {
   "cell_type": "code",
   "execution_count": 15,
   "id": "4d0c213c",
   "metadata": {},
   "outputs": [],
   "source": [
    "from utils import get_text"
   ]
  },
  {
   "cell_type": "code",
   "execution_count": 24,
   "id": "dae76c67",
   "metadata": {},
   "outputs": [
    {
     "data": {
      "text/plain": [
       "(torch.Size([35, 51, 445]), torch.Size([40, 51]), torch.Size([35, 51]))"
      ]
     },
     "execution_count": 24,
     "metadata": {},
     "output_type": "execute_result"
    }
   ],
   "source": [
    "output = base_model(src, trg)\n",
    "output.shape, src.shape, trg.shape"
   ]
  },
  {
   "cell_type": "code",
   "execution_count": 25,
   "id": "b5f22942",
   "metadata": {},
   "outputs": [
    {
     "data": {
      "text/plain": [
       "(torch.Size([35, 51, 445]), torch.Size([40, 51]), torch.Size([35, 51]))"
      ]
     },
     "execution_count": 25,
     "metadata": {},
     "output_type": "execute_result"
    }
   ],
   "source": [
    "output_rav = output[1:].view(-1, output.shape[-1])\n",
    "trg_rav = trg[1:].view(-1)\n",
    "output.shape, src.shape, trg.shape"
   ]
  },
  {
   "cell_type": "code",
   "execution_count": 26,
   "id": "28364077",
   "metadata": {},
   "outputs": [],
   "source": [
    "def remove_tech_tokens(mystr, tokens_to_remove=['<eos>', '<sos>', '<unk>', '<pad>']):\n",
    "    return [x for x in mystr if x not in tokens_to_remove]\n",
    "\n",
    "\n",
    "def get_text(x, TRG_vocab):\n",
    "    text = [TRG_vocab.itos[token] for token in x]\n",
    "    try:\n",
    "        end_idx = text.index('<eos>')\n",
    "        text = text[:end_idx]\n",
    "    except ValueError:\n",
    "        pass\n",
    "    text = remove_tech_tokens(text)\n",
    "    if len(text) < 1:\n",
    "        text = []\n",
    "    return text"
   ]
  },
  {
   "cell_type": "code",
   "execution_count": 27,
   "id": "7d4759ff",
   "metadata": {},
   "outputs": [
    {
     "data": {
      "text/plain": [
       "(51, 35)"
      ]
     },
     "execution_count": 27,
     "metadata": {},
     "output_type": "execute_result"
    }
   ],
   "source": [
    "trg.cpu().numpy().T.shape"
   ]
  },
  {
   "cell_type": "code",
   "execution_count": 35,
   "id": "02b7deb4",
   "metadata": {},
   "outputs": [
    {
     "name": "stdout",
     "output_type": "stream",
     "text": [
      "['at', 'apartment', 'casa', 'you', 'will', 'find', 'a', 'garden', '.']\n"
     ]
    }
   ],
   "source": [
    "original_text = [get_text(x, TRG.vocab) for x in trg.cpu().numpy().T]\n",
    "print(original_text[0])"
   ]
  },
  {
   "cell_type": "code",
   "execution_count": 37,
   "id": "9d5727e2",
   "metadata": {},
   "outputs": [
    {
     "data": {
      "text/plain": [
       "(128, 50)"
      ]
     },
     "execution_count": 37,
     "metadata": {},
     "output_type": "execute_result"
    }
   ],
   "source": [
    "trg.cpu().numpy().T.shape"
   ]
  },
  {
   "cell_type": "code",
   "execution_count": 37,
   "id": "ec385234",
   "metadata": {},
   "outputs": [
    {
     "data": {
      "text/plain": [
       "(51, 34)"
      ]
     },
     "execution_count": 37,
     "metadata": {},
     "output_type": "execute_result"
    }
   ],
   "source": [
    "import numpy as np\n",
    "np.argmax(output[1:].detach().cpu().numpy(), axis = -1).T.shape"
   ]
  },
  {
   "cell_type": "code",
   "execution_count": null,
   "id": "ad32047d",
   "metadata": {},
   "outputs": [],
   "source": []
  }
 ],
 "metadata": {
  "kernelspec": {
   "display_name": "Python 3",
   "language": "python",
   "name": "python3"
  },
  "language_info": {
   "codemirror_mode": {
    "name": "ipython",
    "version": 3
   },
   "file_extension": ".py",
   "mimetype": "text/x-python",
   "name": "python",
   "nbconvert_exporter": "python",
   "pygments_lexer": "ipython3",
   "version": "3.8.5"
  }
 },
 "nbformat": 4,
 "nbformat_minor": 5
}
