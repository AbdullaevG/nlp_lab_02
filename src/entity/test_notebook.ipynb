{
 "cells": [
  {
   "cell_type": "code",
   "execution_count": 16,
   "id": "b910ae64",
   "metadata": {},
   "outputs": [],
   "source": [
    "from marshmallow_dataclass import class_schema\n",
    "from dataclasses import dataclass, field\n",
    "import yaml\n",
    "from data_params import DataParams\n",
    "\n",
    "@dataclass\n",
    "class TrainingPipelineParams:\n",
    "    \"\"\"Structure for pipeline parameters\"\"\"\n",
    "    dataparams: DataParams\n",
    "\n",
    "\n",
    "TrainingPipelineParamsSchema = class_schema(TrainingPipelineParams)\n",
    "\n",
    "\n",
    "def read_training_pipeline_params(path: str):\n",
    "    \"\"\"Read config for model training\"\"\"\n",
    "    with open(path, 'r', encoding='utf-8') as input_stream:\n",
    "        schema = TrainingPipelineParamsSchema()\n",
    "        return schema.load(yaml.safe_load(input_stream))"
   ]
  },
  {
   "cell_type": "code",
   "execution_count": 17,
   "id": "bc82bc47",
   "metadata": {},
   "outputs": [
    {
     "data": {
      "text/plain": [
       "marshmallow.schema.TrainingPipelineParams"
      ]
     },
     "execution_count": 17,
     "metadata": {},
     "output_type": "execute_result"
    }
   ],
   "source": [
    "# get marshmallow schema\n",
    "TrainingPipelineParamsSchema = class_schema(TrainingPipelineParams)\n",
    "TrainingPipelineParamsSchema"
   ]
  },
  {
   "cell_type": "code",
   "execution_count": 18,
   "id": "1672bf36",
   "metadata": {},
   "outputs": [],
   "source": [
    "def read_training_pipeline_params(path: str):\n",
    "    \"\"\"Read config for model training\"\"\"\n",
    "    with open(path, 'r', encoding='utf-8') as input_stream:\n",
    "        schema = TrainingPipelineParamsSchema()\n",
    "        return schema.load(yaml.safe_load(input_stream))"
   ]
  },
  {
   "cell_type": "code",
   "execution_count": 19,
   "id": "75d74a38",
   "metadata": {},
   "outputs": [],
   "source": [
    "train_config = read_training_pipeline_params(path = \"../../configs/train_config.yml\")"
   ]
  },
  {
   "cell_type": "code",
   "execution_count": 24,
   "id": "efdbf01e",
   "metadata": {},
   "outputs": [
    {
     "data": {
      "text/plain": [
       "{'path_to_data': 'data/raw/small_data.txt',\n",
       " 'file_format': 'tsv',\n",
       " 'split_ratio': [0.8, 0.15, 0.05],\n",
       " 'min_word_freq': 3,\n",
       " 'batch_size': 128}"
      ]
     },
     "execution_count": 24,
     "metadata": {},
     "output_type": "execute_result"
    }
   ],
   "source": [
    "vars(data_params)"
   ]
  },
  {
   "cell_type": "code",
   "execution_count": null,
   "id": "97e73b6f",
   "metadata": {},
   "outputs": [],
   "source": []
  }
 ],
 "metadata": {
  "kernelspec": {
   "display_name": "Python 3",
   "language": "python",
   "name": "python3"
  },
  "language_info": {
   "codemirror_mode": {
    "name": "ipython",
    "version": 3
   },
   "file_extension": ".py",
   "mimetype": "text/x-python",
   "name": "python",
   "nbconvert_exporter": "python",
   "pygments_lexer": "ipython3",
   "version": "3.8.5"
  }
 },
 "nbformat": 4,
 "nbformat_minor": 5
}
